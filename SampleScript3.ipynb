{
 "cells": [
  {
   "cell_type": "code",
   "execution_count": 3,
   "id": "ac6a4310",
   "metadata": {},
   "outputs": [
    {
     "name": "stderr",
     "output_type": "stream",
     "text": [
      "/var/folders/fd/kfk54krs71n84hqlgtzj6g040000gn/T/ipykernel_4453/1785001696.py:6: DtypeWarning: Columns (3,4,7,10,11,13,14,15,16,18,19,20,22,24,25,26) have mixed types. Specify dtype option on import or set low_memory=False.\n",
      "  csv_data = pd.read_csv(filename)\n",
      "/var/folders/fd/kfk54krs71n84hqlgtzj6g040000gn/T/ipykernel_4453/1785001696.py:6: DtypeWarning: Columns (3,4,7,10,11,13,14,15,16,18,19,20,22,24,25,26) have mixed types. Specify dtype option on import or set low_memory=False.\n",
      "  csv_data = pd.read_csv(filename)\n",
      "/var/folders/fd/kfk54krs71n84hqlgtzj6g040000gn/T/ipykernel_4453/1785001696.py:6: DtypeWarning: Columns (3,4,7,10,11,13,14,15,16,18,19,20,22,24,25,26) have mixed types. Specify dtype option on import or set low_memory=False.\n",
      "  csv_data = pd.read_csv(filename)\n",
      "/var/folders/fd/kfk54krs71n84hqlgtzj6g040000gn/T/ipykernel_4453/1785001696.py:6: DtypeWarning: Columns (3,4,7,10,11,13,14,15,16,18,19,20,22,24,25,26) have mixed types. Specify dtype option on import or set low_memory=False.\n",
      "  csv_data = pd.read_csv(filename)\n",
      "/var/folders/fd/kfk54krs71n84hqlgtzj6g040000gn/T/ipykernel_4453/1785001696.py:6: DtypeWarning: Columns (3,4,7,10,11,13,14,15,16,18,19,20,22,24,25,26) have mixed types. Specify dtype option on import or set low_memory=False.\n",
      "  csv_data = pd.read_csv(filename)\n",
      "/var/folders/fd/kfk54krs71n84hqlgtzj6g040000gn/T/ipykernel_4453/1785001696.py:6: DtypeWarning: Columns (3,4,7,10,11,13,14,15,16,18,19,20,22,24,25,26) have mixed types. Specify dtype option on import or set low_memory=False.\n",
      "  csv_data = pd.read_csv(filename)\n",
      "/var/folders/fd/kfk54krs71n84hqlgtzj6g040000gn/T/ipykernel_4453/1785001696.py:6: DtypeWarning: Columns (3,4,7,10,11,13,14,15,16,18,19,20,22,24,25,26) have mixed types. Specify dtype option on import or set low_memory=False.\n",
      "  csv_data = pd.read_csv(filename)\n",
      "/var/folders/fd/kfk54krs71n84hqlgtzj6g040000gn/T/ipykernel_4453/1785001696.py:6: DtypeWarning: Columns (3,4,7,10,11,13,14,15,16,18,19,20,22,24,25,26) have mixed types. Specify dtype option on import or set low_memory=False.\n",
      "  csv_data = pd.read_csv(filename)\n",
      "/var/folders/fd/kfk54krs71n84hqlgtzj6g040000gn/T/ipykernel_4453/1785001696.py:6: DtypeWarning: Columns (3,4,7,10,11,13,14,15,16,18,19,20,22,24,25,26) have mixed types. Specify dtype option on import or set low_memory=False.\n",
      "  csv_data = pd.read_csv(filename)\n",
      "/var/folders/fd/kfk54krs71n84hqlgtzj6g040000gn/T/ipykernel_4453/1785001696.py:6: DtypeWarning: Columns (3,4,7,10,11,13,14,15,16,18,19,20,22,24,25,26) have mixed types. Specify dtype option on import or set low_memory=False.\n",
      "  csv_data = pd.read_csv(filename)\n"
     ]
    },
    {
     "name": "stdout",
     "output_type": "stream",
     "text": [
      "2.387696099281311\n"
     ]
    }
   ],
   "source": [
    "import time\n",
    "\n",
    "start = time.time()\n",
    "for i in range(10):\n",
    "    %run ./DataPreprocessing.ipynb\n",
    "    import pm4py\n",
    "    data=readCSV('dataset6.csv','time')\n",
    "    data=cleanAllHeaders(data)\n",
    "    data=selectColumns(data,['company_id','event','time','client','template',\n",
    "                             'guide_name','guide_type','number_of_graphs','number_of_graphs_on_dashboard',\n",
    "                             'graph_origin','source','kpi_count','account_type','graphs_owned','data_format',\n",
    "                             'dashboard_template_name','x_city','weekday','new_time'])\n",
    "    data=filterRows(data,'company_id!=\"\"')\n",
    "    data= filterRows(data,'client != \"Phone App\" & event != \"View Dashboard\"')\n",
    "    data=removeEventsLowFrequency(data, 'event', 10) \n",
    "    data=ArrangeRows(data,[\"company_id\",\"time\"])\n",
    "    data=deleteTruncatedTracesStart(data,'company_id','event',\"Trial Sign Up Completed\")\n",
    "    data=deleteTruncatedTracesEnd(data,'company_id','event',\"Purchase Confirm Details\")\n",
    "    deleteTraceLengthLessThan(data,'company_id',2)\n",
    "    writeCSV(data,'test6.csv')\n",
    "end = time.time()\n",
    "print((end-start)/10)"
   ]
  },
  {
   "cell_type": "code",
   "execution_count": 37,
   "id": "73169f55",
   "metadata": {},
   "outputs": [
    {
     "name": "stdout",
     "output_type": "stream",
     "text": [
      "0.15760111808776855\n"
     ]
    }
   ],
   "source": [
    "import time\n",
    "start = time.time()\n",
    "\n",
    "for i in range(10):\n",
    "    %run ./DataPreprocessing.ipynb\n",
    "    import pm4py\n",
    "    data=readCSV('dataset1.csv','time')\n",
    "    data=cleanAllHeaders(data)\n",
    "    data=selectColumns(data,['company_id','event','time','client','template',\n",
    "                             'guide_name','guide_type','number_of_graphs','number_of_graphs_on_dashboard',\n",
    "                             'graph_origin','source','kpi_count','account_type','graphs_owned','data_format',\n",
    "                             'dashboard_template_name','x_city','weekday','new_time'])\n",
    "    data=filterRows(data,'company_id!=\"\"')\n",
    "    data= filterRows(data,'client != \"Phone App\" & event != \"View Dashboard\"')\n",
    "    data=removeEventsLowFrequency(data, 'event', 10) \n",
    "    data=deleteTruncatedTracesStartSort(data,'company_id','event',\"Trial Sign Up Completed\")\n",
    "    data=deleteTruncatedTracesEndSort(data,'company_id','event',\"Purchase Confirm Details\")\n",
    "    deleteTraceLengthLessThan(data,'company_id',2)\n",
    "    writeCSV(data,'test1.csv')\n",
    "\n",
    "end = time.time()\n",
    "print((end-start)/10)"
   ]
  },
  {
   "cell_type": "code",
   "execution_count": 13,
   "id": "7d8de505",
   "metadata": {},
   "outputs": [
    {
     "name": "stdout",
     "output_type": "stream",
     "text": [
      "0.06609487533569336\n"
     ]
    }
   ],
   "source": [
    "import time\n",
    "start = time.time()\n",
    "\n",
    "%run ./DataPreprocessing.ipynb\n",
    "import pm4py\n",
    "data=readCSV('Sample_Dataset.csv','time')\n",
    "data=cleanAllHeaders(data)\n",
    "data=selectColumns(data,['company_id','event','time',\n",
    "                         'number_of_graphs_on_dashboard',\n",
    "                         'graph_origin','graphs_owned'])\n",
    "data=filterRows(data,'company_id!=\"\"')\n",
    "data= filterRows(data,'event != \"View Dashboard\"')\n",
    "data=removeEventsLowFrequency(data, 'event', 10) \n",
    "data=ArrangeRows(data,[\"company_id\",\"time\"])\n",
    "data=deleteTruncatedTracesStart(data,'company_id','event',\"Trial Sign Up Completed\")\n",
    "data=deleteTruncatedTracesEnd(data,'company_id','event',\"Purchase Confirm Details\")\n",
    "deleteTraceLengthLessThan(data,'company_id',2)\n",
    "writeCSV(data,'test1.csv')\n",
    "\n",
    "end = time.time()\n",
    "print(end-start)"
   ]
  },
  {
   "cell_type": "code",
   "execution_count": 16,
   "id": "dd2eb817",
   "metadata": {},
   "outputs": [
    {
     "name": "stdout",
     "output_type": "stream",
     "text": [
      "0.0667119026184082\n"
     ]
    }
   ],
   "source": [
    "import time\n",
    "start = time.time()\n",
    "\n",
    "%run ./DataPreprocessing.ipynb\n",
    "import pm4py\n",
    "data=readCSV('Sample_Dataset.csv','time')\n",
    "data=cleanAllHeaders(data)\n",
    "data=selectColumns(data,['company_id','event','time',\n",
    "                         'number_of_graphs_on_dashboard',\n",
    "                         'graph_origin','graphs_owned','new_time'])\n",
    "data=filterRows(data,'company_id!=\"\"')\n",
    "data= filterRows(data,' event != \"View Dashboard\"')\n",
    "data=removeEventsLowFrequency(data, 'event', 10) \n",
    "data=ArrangeRows(data,[\"company_id\",\"time\"])\n",
    "data=deleteTruncatedTracesStartSort(data,'company_id','event',\"Trial Sign Up Completed\")\n",
    "data=deleteTruncatedTracesEndSort(data,'company_id','event',\"Purchase Confirm Details\")\n",
    "deleteTraceLengthLessThan(data,'company_id',2)\n",
    "writeCSV(data,'test2.csv')\n",
    "\n",
    "end = time.time()\n",
    "print(end-start)"
   ]
  },
  {
   "cell_type": "code",
   "execution_count": null,
   "id": "33bd8e71",
   "metadata": {},
   "outputs": [],
   "source": []
  }
 ],
 "metadata": {
  "kernelspec": {
   "display_name": "Python 3 (ipykernel)",
   "language": "python",
   "name": "python3"
  },
  "language_info": {
   "codemirror_mode": {
    "name": "ipython",
    "version": 3
   },
   "file_extension": ".py",
   "mimetype": "text/x-python",
   "name": "python",
   "nbconvert_exporter": "python",
   "pygments_lexer": "ipython3",
   "version": "3.9.13"
  }
 },
 "nbformat": 4,
 "nbformat_minor": 5
}
