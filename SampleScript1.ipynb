{
 "cells": [
  {
   "cell_type": "code",
   "execution_count": 29,
   "id": "5ec435f0",
   "metadata": {},
   "outputs": [],
   "source": [
    "%run ./DataPreprocessing.ipynb"
   ]
  },
  {
   "cell_type": "code",
   "execution_count": 30,
   "id": "50a3dbae",
   "metadata": {},
   "outputs": [],
   "source": [
    "data=readCSV('Sample_Dataset.csv')"
   ]
  },
  {
   "cell_type": "code",
   "execution_count": 31,
   "id": "7a616e5d",
   "metadata": {},
   "outputs": [
    {
     "name": "stdout",
     "output_type": "stream",
     "text": [
      "       #                        Company.ID                      event  \\\n",
      "0      1  b8610d38ddca3692d34a55594e0b4df5             View Dashboard   \n",
      "1      2  6c5941a5643cbcc803d42298adec6661             View Dashboard   \n",
      "2      3  b8610d38ddca3692d34a55594e0b4df5               Graph Editor   \n",
      "3      4  51b809b091fc0f51dc7aca9ddc486bfe      Graph Saved in Editor   \n",
      "4      5  51b809b091fc0f51dc7aca9ddc486bfe             View Dashboard   \n",
      "..   ...                               ...                        ...   \n",
      "861  862  51b809b091fc0f51dc7aca9ddc486bfe               Graph Editor   \n",
      "862  863  883875a18510e68dcc642a6875717d15             View Dashboard   \n",
      "863  864  c7cb32f712bd28d7bf874f56f3ecf938          Data Source Error   \n",
      "864  865  3cad74c41b8f449a72eeb3ec457f01b2             View Dashboard   \n",
      "865  866  3cad74c41b8f449a72eeb3ec457f01b2  Edit Graph from Dashboard   \n",
      "\n",
      "              time  Theme  Account.Users  Metric.Count Graph.Origin  \\\n",
      "0    8/1/2018 0:00   Dark            1.0           NaN          NaN   \n",
      "1    8/1/2018 0:00  Light           41.0           NaN          NaN   \n",
      "2    8/1/2018 0:00    NaN            1.0           NaN       Custom   \n",
      "3    8/1/2018 0:00    NaN            1.0           NaN       Custom   \n",
      "4    8/1/2018 0:00  Light            1.0           NaN          NaN   \n",
      "..             ...    ...            ...           ...          ...   \n",
      "861  8/1/2018 1:44    NaN            1.0           NaN       Custom   \n",
      "862  8/1/2018 1:45  Light            1.0           NaN          NaN   \n",
      "863  8/1/2018 1:45    NaN            4.0           NaN          NaN   \n",
      "864  8/1/2018 1:45  Light            2.0           NaN          NaN   \n",
      "865  8/1/2018 1:45    NaN            2.0           NaN       Custom   \n",
      "\n",
      "     Number.of.Graphs.on.Dashboard  Graphs.Owned  \n",
      "0                              NaN          47.0  \n",
      "1                              NaN           0.0  \n",
      "2                              NaN          47.0  \n",
      "3                              NaN          15.0  \n",
      "4                              NaN           8.0  \n",
      "..                             ...           ...  \n",
      "861                            NaN           8.0  \n",
      "862                            NaN          38.0  \n",
      "863                            NaN          13.0  \n",
      "864                            NaN          27.0  \n",
      "865                            NaN          27.0  \n",
      "\n",
      "[866 rows x 10 columns]\n"
     ]
    }
   ],
   "source": [
    "print(data)\n",
    "# writeCSV(data,'Test123123.csv')"
   ]
  },
  {
   "cell_type": "code",
   "execution_count": 32,
   "id": "eb3a9ea7",
   "metadata": {},
   "outputs": [
    {
     "name": "stdout",
     "output_type": "stream",
     "text": [
      "       #                        Company.ID                      event  \\\n",
      "0      1  b8610d38ddca3692d34a55594e0b4df5             View Dashboard   \n",
      "1      2  6c5941a5643cbcc803d42298adec6661             View Dashboard   \n",
      "2      3  b8610d38ddca3692d34a55594e0b4df5               Graph Editor   \n",
      "3      4  51b809b091fc0f51dc7aca9ddc486bfe      Graph Saved in Editor   \n",
      "4      5  51b809b091fc0f51dc7aca9ddc486bfe             View Dashboard   \n",
      "..   ...                               ...                        ...   \n",
      "861  862  51b809b091fc0f51dc7aca9ddc486bfe               Graph Editor   \n",
      "862  863  883875a18510e68dcc642a6875717d15             View Dashboard   \n",
      "863  864  c7cb32f712bd28d7bf874f56f3ecf938          Data Source Error   \n",
      "864  865  3cad74c41b8f449a72eeb3ec457f01b2             View Dashboard   \n",
      "865  866  3cad74c41b8f449a72eeb3ec457f01b2  Edit Graph from Dashboard   \n",
      "\n",
      "              time  Theme  Account.Users  Metric.Count Graph.Origin  \\\n",
      "0    8/1/2018 0:00   Dark            1.0           NaN          NaN   \n",
      "1    8/1/2018 0:00  Light           41.0           NaN          NaN   \n",
      "2    8/1/2018 0:00    NaN            1.0           NaN       Custom   \n",
      "3    8/1/2018 0:00    NaN            1.0           NaN       Custom   \n",
      "4    8/1/2018 0:00  Light            1.0           NaN          NaN   \n",
      "..             ...    ...            ...           ...          ...   \n",
      "861  8/1/2018 1:44    NaN            1.0           NaN       Custom   \n",
      "862  8/1/2018 1:45  Light            1.0           NaN          NaN   \n",
      "863  8/1/2018 1:45    NaN            4.0           NaN          NaN   \n",
      "864  8/1/2018 1:45  Light            2.0           NaN          NaN   \n",
      "865  8/1/2018 1:45    NaN            2.0           NaN       Custom   \n",
      "\n",
      "     Number.of.Graphs.on.Dashboard  Graphs.Owned  \n",
      "0                              NaN          47.0  \n",
      "1                              NaN           0.0  \n",
      "2                              NaN          47.0  \n",
      "3                              NaN          15.0  \n",
      "4                              NaN           8.0  \n",
      "..                             ...           ...  \n",
      "861                            NaN           8.0  \n",
      "862                            NaN          38.0  \n",
      "863                            NaN          13.0  \n",
      "864                            NaN          27.0  \n",
      "865                            NaN          27.0  \n",
      "\n",
      "[866 rows x 10 columns]\n"
     ]
    }
   ],
   "source": [
    "writeCSV(data,'hello')"
   ]
  },
  {
   "cell_type": "code",
   "execution_count": null,
   "id": "0942efc5",
   "metadata": {},
   "outputs": [],
   "source": []
  }
 ],
 "metadata": {
  "kernelspec": {
   "display_name": "Python 3 (ipykernel)",
   "language": "python",
   "name": "python3"
  },
  "language_info": {
   "codemirror_mode": {
    "name": "ipython",
    "version": 3
   },
   "file_extension": ".py",
   "mimetype": "text/x-python",
   "name": "python",
   "nbconvert_exporter": "python",
   "pygments_lexer": "ipython3",
   "version": "3.8.8"
  }
 },
 "nbformat": 4,
 "nbformat_minor": 5
}
