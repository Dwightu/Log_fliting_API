{
 "cells": [
  {
   "cell_type": "code",
   "execution_count": 11,
   "id": "d02f5159",
   "metadata": {},
   "outputs": [],
   "source": [
    "## Install all the required packages and run the required libraries\n",
    "##-----------------------------------------------\n",
    "import pandas as pd\n",
    "import numpy as np\n"
   ]
  },
  {
   "cell_type": "code",
   "execution_count": 5,
   "id": "8fbdd26e",
   "metadata": {},
   "outputs": [],
   "source": [
    "## List of Functions\n",
    "##-----------------------------------------------\n",
    "#read a CSV file\n",
    "#readCSV(String file):The readCSV function reads the CSV file into workplace\n",
    "#Arguments: file is the CSV file in the select work directory.\n",
    "def readCSV(filename):\n",
    "    csv_data = pd.read_csv(filename)\n",
    "    return csv_data"
   ]
  },
  {
   "cell_type": "code",
   "execution_count": 19,
   "id": "999cca15",
   "metadata": {},
   "outputs": [],
   "source": [
    "#write to CSV file\n",
    "#writeCSV(table DataSet, String file):The writeCSV function writes the dataframe to a CSV file.\n",
    "#Arguments: DataSet is the name of dataframe to save, file is the name of the CSV output file.\n",
    "#Returns a CSV file\n",
    "def writeCSV(data,filename):\n",
    "     data.to_csv(filename)"
   ]
  },
  {
   "cell_type": "code",
   "execution_count": null,
   "id": "9d67c784",
   "metadata": {},
   "outputs": [],
   "source": []
  },
  {
   "cell_type": "code",
   "execution_count": null,
   "id": "47914ec0",
   "metadata": {},
   "outputs": [],
   "source": []
  }
 ],
 "metadata": {
  "kernelspec": {
   "display_name": "Python 3 (ipykernel)",
   "language": "python",
   "name": "python3"
  },
  "language_info": {
   "codemirror_mode": {
    "name": "ipython",
    "version": 3
   },
   "file_extension": ".py",
   "mimetype": "text/x-python",
   "name": "python",
   "nbconvert_exporter": "python",
   "pygments_lexer": "ipython3",
   "version": "3.8.8"
  }
 },
 "nbformat": 4,
 "nbformat_minor": 5
}
