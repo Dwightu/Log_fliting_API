{
 "cells": [
  {
   "cell_type": "code",
   "execution_count": 2,
   "id": "a907fc2f",
   "metadata": {},
   "outputs": [],
   "source": [
    "## Install all the required packages and run the required libraries\n",
    "##-----------------------------------------------\n",
    "import pandas as pd\n",
    "import numpy as np"
   ]
  },
  {
   "cell_type": "code",
   "execution_count": 3,
   "id": "417250bc",
   "metadata": {},
   "outputs": [],
   "source": [
    "## List of Functions\n",
    "##-----------------------------------------------\n",
    "#read a CSV file\n",
    "#readCSV(String file):The readCSV function reads the CSV file into workplace\n",
    "#Arguments: file is the CSV file in the select work directory.\n",
    "def readCSV(filename):\n",
    "    csv_data = pd.read_csv(filename)\n",
    "    return csv_data"
   ]
  },
  {
   "cell_type": "code",
   "execution_count": 19,
   "id": "7a3c0706",
   "metadata": {},
   "outputs": [],
   "source": [
    "#write to CSV file\n",
    "#writeCSV(table DataSet, String file):The writeCSV function writes the dataframe to a CSV file.\n",
    "#Arguments: DataSet is the name of dataframe to save, file is the name of the CSV output file.\n",
    "#Returns a CSV file\n",
    "def writeCSV(dataset,filename):\n",
    "     dataset.to_csv(filename)"
   ]
  },
  {
   "cell_type": "code",
   "execution_count": 12,
   "id": "2973af0e",
   "metadata": {},
   "outputs": [],
   "source": [
    "#select dataset columns for analysis\n",
    "#selectColumns(table DataSet, string columnName, …): This function selects/keeps the list columns needed for analysis from the dataset. Only the\n",
    "#list of selected columns/attributes are included in the dataset. \n",
    "#Arguments: DataSet is the name of the dataframe, columnName is the name of the column to keep in the dataset. Many can be listed, separated by commas.\n",
    "#Returns a dataset including only the list of columns/attributes that are selected\n",
    "def selectColumns(dataset,selectCol):\n",
    "    return dataset[selectCol]\n"
   ]
  },
  {
   "cell_type": "code",
   "execution_count": 13,
   "id": "837db080",
   "metadata": {},
   "outputs": [],
   "source": [
    "#delete columns from the dataset\n",
    "def deleteColumns(dataset,deleteCol):\n",
    "    return dataset.drop(columns=deleteCol)"
   ]
  },
  {
   "cell_type": "code",
   "execution_count": null,
   "id": "22237f98",
   "metadata": {},
   "outputs": [],
   "source": []
  }
 ],
 "metadata": {
  "kernelspec": {
   "display_name": "Python 3 (ipykernel)",
   "language": "python",
   "name": "python3"
  },
  "language_info": {
   "codemirror_mode": {
    "name": "ipython",
    "version": 3
   },
   "file_extension": ".py",
   "mimetype": "text/x-python",
   "name": "python",
   "nbconvert_exporter": "python",
   "pygments_lexer": "ipython3",
   "version": "3.8.8"
  }
 },
 "nbformat": 4,
 "nbformat_minor": 5
}
