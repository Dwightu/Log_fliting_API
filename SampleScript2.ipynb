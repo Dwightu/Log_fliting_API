{
 "cells": [
  {
   "cell_type": "code",
   "execution_count": 1,
   "id": "a430c223",
   "metadata": {},
   "outputs": [],
   "source": [
    "## Install all the required packages and run the required libraries\n",
    "##-----------------------------------------------\n",
    "%run ./DataPreprocessing.ipynb"
   ]
  },
  {
   "cell_type": "code",
   "execution_count": 2,
   "id": "5d779119",
   "metadata": {},
   "outputs": [
    {
     "name": "stderr",
     "output_type": "stream",
     "text": [
      "/var/folders/fd/kfk54krs71n84hqlgtzj6g040000gn/T/ipykernel_10016/1785001696.py:6: DtypeWarning: Columns (2,3,6,9,10,12) have mixed types. Specify dtype option on import or set low_memory=False.\n",
      "  csv_data = pd.read_csv(filename)\n"
     ]
    }
   ],
   "source": [
    "# readCSV file\n",
    "data=readCSV('Sample_Dataset_2.csv','time')"
   ]
  },
  {
   "cell_type": "code",
   "execution_count": 3,
   "id": "1dcb778d",
   "metadata": {},
   "outputs": [],
   "source": [
    "# cleanColumn Headers\n",
    "data=cleanAllHeaders(data)"
   ]
  },
  {
   "cell_type": "code",
   "execution_count": 4,
   "id": "51ceb7f7",
   "metadata": {},
   "outputs": [],
   "source": [
    "# select columns for analysis\n",
    "data=selectColumns(data,[\"company_id\",\"event\",\"time\",\"theme\",\"account_users\",\"metric_count\",\"graph_origin\",\"number_of_graphs_on_dashboard\",\"graphs_owned\",\"new_time\"])"
   ]
  },
  {
   "cell_type": "code",
   "execution_count": 5,
   "id": "17816126",
   "metadata": {},
   "outputs": [],
   "source": [
    "# filter rows where company_id is empty\n",
    "data=filterRows(data,'company_id!=\"\"')"
   ]
  },
  {
   "cell_type": "code",
   "execution_count": 6,
   "id": "d586843b",
   "metadata": {},
   "outputs": [],
   "source": [
    "# filter rows to remove some events\n",
    "##data= filterRows(data,'client != \"Phone App\" & event != \"View Dashboard\"')"
   ]
  },
  {
   "cell_type": "code",
   "execution_count": 7,
   "id": "8a4c5cad",
   "metadata": {},
   "outputs": [],
   "source": [
    "# filter rows for events with low frequency\n",
    "data=removeEventsLowFrequency(data, 'event', 10) "
   ]
  },
  {
   "cell_type": "code",
   "execution_count": 8,
   "id": "e5d1b707",
   "metadata": {},
   "outputs": [],
   "source": [
    "# delete cases with few events\n",
    "data=deleteTraceLengthLessThan(data,'company_id',5)"
   ]
  },
  {
   "cell_type": "code",
   "execution_count": 9,
   "id": "3a5321c7",
   "metadata": {},
   "outputs": [],
   "source": [
    "#arrange rows according to variables company_id and time\n",
    "data=ArrangeRows(data,[\"company_id\",\"time\"])"
   ]
  },
  {
   "cell_type": "code",
   "execution_count": 10,
   "id": "5920ae9c",
   "metadata": {},
   "outputs": [],
   "source": [
    "#delete cases that do not start with \"Trial Sign Up Completed\" event\n",
    "data=deleteTruncatedTracesStart(data,'company_id','event',\"Trial Sign Up Completed\")"
   ]
  },
  {
   "cell_type": "code",
   "execution_count": 11,
   "id": "a920a8d7",
   "metadata": {},
   "outputs": [],
   "source": [
    "#delete cases that do not finish with \"Purchase Confirm Details\"\n",
    "# deleteTruncatedTracesEnd(data,'company_id','event',\"Purchase Confirm Details\")"
   ]
  },
  {
   "cell_type": "code",
   "execution_count": 12,
   "id": "1f84ab7f",
   "metadata": {},
   "outputs": [],
   "source": [
    "#concatenate tow columns (optional)\n",
    "# data="
   ]
  },
  {
   "cell_type": "code",
   "execution_count": 13,
   "id": "a05be3a9",
   "metadata": {},
   "outputs": [],
   "source": [
    "data=eventIsRepeated(data, 'company_id', 'event')"
   ]
  },
  {
   "cell_type": "code",
   "execution_count": 14,
   "id": "50a6e4c0",
   "metadata": {},
   "outputs": [],
   "source": [
    "data=keepFirstEvent(data,'event','company_id')"
   ]
  },
  {
   "cell_type": "code",
   "execution_count": 15,
   "id": "e43f053a",
   "metadata": {},
   "outputs": [],
   "source": [
    "#delete all events\n",
    "data=deleteAllEvents(data,'event',\"Slack Share\")"
   ]
  },
  {
   "cell_type": "code",
   "execution_count": 16,
   "id": "81ef6588",
   "metadata": {},
   "outputs": [],
   "source": [
    "writeCSV(data, \"dataSet.csv\")"
   ]
  }
 ],
 "metadata": {
  "kernelspec": {
   "display_name": "Python 3 (ipykernel)",
   "language": "python",
   "name": "python3"
  },
  "language_info": {
   "codemirror_mode": {
    "name": "ipython",
    "version": 3
   },
   "file_extension": ".py",
   "mimetype": "text/x-python",
   "name": "python",
   "nbconvert_exporter": "python",
   "pygments_lexer": "ipython3",
   "version": "3.9.13"
  }
 },
 "nbformat": 4,
 "nbformat_minor": 5
}
